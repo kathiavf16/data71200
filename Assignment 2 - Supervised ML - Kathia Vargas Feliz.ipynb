{
 "cells": [
  {
   "cell_type": "code",
   "execution_count": 1,
   "metadata": {},
   "outputs": [],
   "source": [
    "# StreetEasy is New York City’s leading real estate marketplace. You will be working with a\n",
    "# dataset that contains a sample of 3,540 rentals listings in Manhattan.\n",
    "# https://www.kaggle.com/zohaib30/streeteasy-dataset?select=manhattan.csv"
   ]
  },
  {
   "cell_type": "code",
   "execution_count": 57,
   "metadata": {},
   "outputs": [],
   "source": [
    "## for data\n",
    "import pandas as pd\n",
    "import numpy as np\n",
    "## for plotting\n",
    "import matplotlib.pyplot as plt\n",
    "import seaborn as sns\n",
    "## for statistical tests\n",
    "import scipy\n",
    "import statsmodels.formula.api as smf\n",
    "import statsmodels.api as sm\n",
    "## for machine learning\n",
    "from sklearn import model_selection, preprocessing, feature_selection, ensemble, linear_model, metrics, decomposition\n",
    "from sklearn.metrics import mean_squared_error\n",
    "from sklearn.metrics import mean_absolute_error\n",
    "import warnings\n",
    "warnings.simplefilter(action='ignore', category=FutureWarning)"
   ]
  },
  {
   "cell_type": "markdown",
   "metadata": {},
   "source": [
    "### Step 1: Load your data, including testing/training split from Project 1."
   ]
  },
  {
   "cell_type": "code",
   "execution_count": 3,
   "metadata": {},
   "outputs": [
    {
     "data": {
      "text/plain": [
       "(3539, 18)"
      ]
     },
     "execution_count": 3,
     "metadata": {},
     "output_type": "execute_result"
    }
   ],
   "source": [
    "manhattan = pd.read_csv('manhattan.csv')\n",
    "manhattan.shape\n",
    "#below we can see our dataset has 3539 rows and 18 columns "
   ]
  },
  {
   "cell_type": "code",
   "execution_count": 4,
   "metadata": {},
   "outputs": [],
   "source": [
    "## I had big issues with my test set, and after trying different methods. \n",
    "## I found the solution was dropping these 2 neigborhoods from the beginning since they were outliers"
   ]
  },
  {
   "cell_type": "code",
   "execution_count": 5,
   "metadata": {},
   "outputs": [],
   "source": [
    "# Get indexes where name column has value john\n",
    "indexNames = manhattan[manhattan['neighborhood'] == 'Manhattanville'].index\n",
    " \n",
    "# Delete these row indexes from dataFrame\n",
    "manhattan.drop(indexNames , inplace=True)"
   ]
  },
  {
   "cell_type": "code",
   "execution_count": 6,
   "metadata": {},
   "outputs": [],
   "source": [
    "# Get indexes where name column has value john\n",
    "indexNames = manhattan[manhattan['neighborhood'] == 'West Harlem'].index\n",
    " \n",
    "# Delete these row indexes from dataFrame\n",
    "manhattan.drop(indexNames , inplace=True)"
   ]
  },
  {
   "cell_type": "code",
   "execution_count": 7,
   "metadata": {},
   "outputs": [
    {
     "name": "stdout",
     "output_type": "stream",
     "text": [
      "0     2550\n",
      "1    11500\n",
      "2     4500\n",
      "3     4795\n",
      "4    17500\n",
      "Name: rent, dtype: int64\n"
     ]
    }
   ],
   "source": [
    "y = manhattan[\"rent\"]\n",
    "print(y.head()) # y variable"
   ]
  },
  {
   "cell_type": "code",
   "execution_count": 8,
   "metadata": {},
   "outputs": [
    {
     "name": "stdout",
     "output_type": "stream",
     "text": [
      "   rental_id  bedrooms  bathrooms  size_sqft  min_to_subway  floor  \\\n",
      "0       1545       0.0          1        480              9    2.0   \n",
      "1       2472       2.0          2       2000              4    1.0   \n",
      "2       2919       1.0          1        916              2   51.0   \n",
      "3       2790       1.0          1        975              3    8.0   \n",
      "4       3946       2.0          2       4800              3    4.0   \n",
      "\n",
      "   building_age_yrs  no_fee  has_roofdeck  has_washer_dryer  has_doorman  \\\n",
      "0                17       1             1                 0            0   \n",
      "1                96       0             0                 0            0   \n",
      "2                29       0             1                 0            1   \n",
      "3                31       0             0                 0            1   \n",
      "4               136       0             0                 0            1   \n",
      "\n",
      "   has_elevator  has_dishwasher  has_patio  has_gym       neighborhood  \\\n",
      "0             1               1          0        1    Upper East Side   \n",
      "1             0               0          0        0  Greenwich Village   \n",
      "2             1               1          0        0            Midtown   \n",
      "3             1               1          0        1  Greenwich Village   \n",
      "4             1               1          0        1               Soho   \n",
      "\n",
      "     borough  \n",
      "0  Manhattan  \n",
      "1  Manhattan  \n",
      "2  Manhattan  \n",
      "3  Manhattan  \n",
      "4  Manhattan  \n"
     ]
    }
   ],
   "source": [
    "X = manhattan.drop([\"rent\"], axis=1)\n",
    "print(X.head()) # X variable"
   ]
  },
  {
   "cell_type": "code",
   "execution_count": 9,
   "metadata": {},
   "outputs": [],
   "source": [
    "from sklearn.model_selection import train_test_split\n",
    "\n",
    "# split data and labels into a training and a test set\n",
    "X_train, X_test, y_train, y_test = train_test_split(X, y, random_state=0, test_size=0.33)"
   ]
  },
  {
   "cell_type": "code",
   "execution_count": 10,
   "metadata": {},
   "outputs": [
    {
     "data": {
      "text/plain": [
       "(2369, 17)"
      ]
     },
     "execution_count": 10,
     "metadata": {},
     "output_type": "execute_result"
    }
   ],
   "source": [
    "X_train.shape #60% of the data"
   ]
  },
  {
   "cell_type": "code",
   "execution_count": 11,
   "metadata": {},
   "outputs": [
    {
     "data": {
      "text/plain": [
       "(1167, 17)"
      ]
     },
     "execution_count": 11,
     "metadata": {},
     "output_type": "execute_result"
    }
   ],
   "source": [
    "X_test.shape #40% of the data"
   ]
  },
  {
   "cell_type": "markdown",
   "metadata": {},
   "source": [
    "### Step 2: (If not already done in Project 1) Prepare your data"
   ]
  },
  {
   "cell_type": "markdown",
   "metadata": {},
   "source": [
    "## Training Set"
   ]
  },
  {
   "cell_type": "code",
   "execution_count": 12,
   "metadata": {},
   "outputs": [],
   "source": [
    "X_train_cleaned = X_train.copy() # copy of train dataset"
   ]
  },
  {
   "cell_type": "code",
   "execution_count": 13,
   "metadata": {},
   "outputs": [
    {
     "data": {
      "text/plain": [
       "rental_id           0\n",
       "bedrooms            0\n",
       "bathrooms           0\n",
       "size_sqft           0\n",
       "min_to_subway       0\n",
       "floor               0\n",
       "building_age_yrs    0\n",
       "no_fee              0\n",
       "has_roofdeck        0\n",
       "has_washer_dryer    0\n",
       "has_doorman         0\n",
       "has_elevator        0\n",
       "has_dishwasher      0\n",
       "has_patio           0\n",
       "has_gym             0\n",
       "neighborhood        0\n",
       "borough             0\n",
       "dtype: int64"
      ]
     },
     "execution_count": 13,
     "metadata": {},
     "output_type": "execute_result"
    }
   ],
   "source": [
    "X_train_cleaned.isnull().sum() # not missing values"
   ]
  },
  {
   "cell_type": "code",
   "execution_count": 14,
   "metadata": {},
   "outputs": [
    {
     "data": {
      "text/plain": [
       "(2369, 16)"
      ]
     },
     "execution_count": 14,
     "metadata": {},
     "output_type": "execute_result"
    }
   ],
   "source": [
    "# I'm dropping the borough column since this dataset is entirely about Manhattan\n",
    "X_train_cleaned = X_train_cleaned.drop([\"borough\"], axis=1)\n",
    "X_train_cleaned.shape"
   ]
  },
  {
   "cell_type": "code",
   "execution_count": 15,
   "metadata": {},
   "outputs": [
    {
     "data": {
      "text/plain": [
       "array(['Flatiron', 'Midtown East', 'Upper East Side', 'Midtown West',\n",
       "       'Financial District', 'Battery Park City', 'Upper West Side',\n",
       "       'Midtown South', 'Central Harlem', 'Soho', 'Chelsea', 'Midtown',\n",
       "       'East Village', 'Gramercy Park', 'East Harlem',\n",
       "       'Washington Heights', 'Nolita', 'Chinatown', 'Greenwich Village',\n",
       "       'Tribeca', 'Inwood', 'West Village', 'Morningside Heights',\n",
       "       'Little Italy', 'Central Park South', 'Lower East Side',\n",
       "       'Stuyvesant Town/PCV', 'Roosevelt Island', 'Hamilton Heights',\n",
       "       'Long Island City'], dtype=object)"
      ]
     },
     "execution_count": 15,
     "metadata": {},
     "output_type": "execute_result"
    }
   ],
   "source": [
    "X_train_cleaned[\"neighborhood\"].unique()"
   ]
  },
  {
   "cell_type": "code",
   "execution_count": 16,
   "metadata": {},
   "outputs": [
    {
     "data": {
      "text/html": [
       "<div>\n",
       "<style scoped>\n",
       "    .dataframe tbody tr th:only-of-type {\n",
       "        vertical-align: middle;\n",
       "    }\n",
       "\n",
       "    .dataframe tbody tr th {\n",
       "        vertical-align: top;\n",
       "    }\n",
       "\n",
       "    .dataframe thead th {\n",
       "        text-align: right;\n",
       "    }\n",
       "</style>\n",
       "<table border=\"1\" class=\"dataframe\">\n",
       "  <thead>\n",
       "    <tr style=\"text-align: right;\">\n",
       "      <th></th>\n",
       "      <th>rental_id</th>\n",
       "      <th>bedrooms</th>\n",
       "      <th>bathrooms</th>\n",
       "      <th>size_sqft</th>\n",
       "      <th>min_to_subway</th>\n",
       "      <th>floor</th>\n",
       "      <th>building_age_yrs</th>\n",
       "      <th>no_fee</th>\n",
       "      <th>has_roofdeck</th>\n",
       "      <th>has_washer_dryer</th>\n",
       "      <th>...</th>\n",
       "      <th>neighborhood_Morningside Heights</th>\n",
       "      <th>neighborhood_Nolita</th>\n",
       "      <th>neighborhood_Roosevelt Island</th>\n",
       "      <th>neighborhood_Soho</th>\n",
       "      <th>neighborhood_Stuyvesant Town/PCV</th>\n",
       "      <th>neighborhood_Tribeca</th>\n",
       "      <th>neighborhood_Upper East Side</th>\n",
       "      <th>neighborhood_Upper West Side</th>\n",
       "      <th>neighborhood_Washington Heights</th>\n",
       "      <th>neighborhood_West Village</th>\n",
       "    </tr>\n",
       "  </thead>\n",
       "  <tbody>\n",
       "    <tr>\n",
       "      <td>1262</td>\n",
       "      <td>10708</td>\n",
       "      <td>1.0</td>\n",
       "      <td>1</td>\n",
       "      <td>855</td>\n",
       "      <td>1</td>\n",
       "      <td>26.0</td>\n",
       "      <td>8</td>\n",
       "      <td>0</td>\n",
       "      <td>1</td>\n",
       "      <td>1</td>\n",
       "      <td>...</td>\n",
       "      <td>0</td>\n",
       "      <td>0</td>\n",
       "      <td>0</td>\n",
       "      <td>0</td>\n",
       "      <td>0</td>\n",
       "      <td>0</td>\n",
       "      <td>0</td>\n",
       "      <td>0</td>\n",
       "      <td>0</td>\n",
       "      <td>0</td>\n",
       "    </tr>\n",
       "    <tr>\n",
       "      <td>1490</td>\n",
       "      <td>8753</td>\n",
       "      <td>4.0</td>\n",
       "      <td>2</td>\n",
       "      <td>1600</td>\n",
       "      <td>4</td>\n",
       "      <td>9.0</td>\n",
       "      <td>33</td>\n",
       "      <td>0</td>\n",
       "      <td>0</td>\n",
       "      <td>0</td>\n",
       "      <td>...</td>\n",
       "      <td>0</td>\n",
       "      <td>0</td>\n",
       "      <td>0</td>\n",
       "      <td>0</td>\n",
       "      <td>0</td>\n",
       "      <td>0</td>\n",
       "      <td>0</td>\n",
       "      <td>0</td>\n",
       "      <td>0</td>\n",
       "      <td>0</td>\n",
       "    </tr>\n",
       "    <tr>\n",
       "      <td>518</td>\n",
       "      <td>10321</td>\n",
       "      <td>1.0</td>\n",
       "      <td>1</td>\n",
       "      <td>770</td>\n",
       "      <td>8</td>\n",
       "      <td>7.0</td>\n",
       "      <td>55</td>\n",
       "      <td>0</td>\n",
       "      <td>0</td>\n",
       "      <td>0</td>\n",
       "      <td>...</td>\n",
       "      <td>0</td>\n",
       "      <td>0</td>\n",
       "      <td>0</td>\n",
       "      <td>0</td>\n",
       "      <td>0</td>\n",
       "      <td>0</td>\n",
       "      <td>1</td>\n",
       "      <td>0</td>\n",
       "      <td>0</td>\n",
       "      <td>0</td>\n",
       "    </tr>\n",
       "    <tr>\n",
       "      <td>1327</td>\n",
       "      <td>1528</td>\n",
       "      <td>1.0</td>\n",
       "      <td>1</td>\n",
       "      <td>768</td>\n",
       "      <td>2</td>\n",
       "      <td>43.0</td>\n",
       "      <td>9</td>\n",
       "      <td>0</td>\n",
       "      <td>1</td>\n",
       "      <td>0</td>\n",
       "      <td>...</td>\n",
       "      <td>0</td>\n",
       "      <td>0</td>\n",
       "      <td>0</td>\n",
       "      <td>0</td>\n",
       "      <td>0</td>\n",
       "      <td>0</td>\n",
       "      <td>0</td>\n",
       "      <td>0</td>\n",
       "      <td>0</td>\n",
       "      <td>0</td>\n",
       "    </tr>\n",
       "    <tr>\n",
       "      <td>766</td>\n",
       "      <td>3696</td>\n",
       "      <td>1.0</td>\n",
       "      <td>1</td>\n",
       "      <td>854</td>\n",
       "      <td>5</td>\n",
       "      <td>27.0</td>\n",
       "      <td>30</td>\n",
       "      <td>1</td>\n",
       "      <td>0</td>\n",
       "      <td>0</td>\n",
       "      <td>...</td>\n",
       "      <td>0</td>\n",
       "      <td>0</td>\n",
       "      <td>0</td>\n",
       "      <td>0</td>\n",
       "      <td>0</td>\n",
       "      <td>0</td>\n",
       "      <td>1</td>\n",
       "      <td>0</td>\n",
       "      <td>0</td>\n",
       "      <td>0</td>\n",
       "    </tr>\n",
       "  </tbody>\n",
       "</table>\n",
       "<p>5 rows × 44 columns</p>\n",
       "</div>"
      ],
      "text/plain": [
       "      rental_id  bedrooms  bathrooms  size_sqft  min_to_subway  floor  \\\n",
       "1262      10708       1.0          1        855              1   26.0   \n",
       "1490       8753       4.0          2       1600              4    9.0   \n",
       "518       10321       1.0          1        770              8    7.0   \n",
       "1327       1528       1.0          1        768              2   43.0   \n",
       "766        3696       1.0          1        854              5   27.0   \n",
       "\n",
       "      building_age_yrs  no_fee  has_roofdeck  has_washer_dryer  ...  \\\n",
       "1262                 8       0             1                 1  ...   \n",
       "1490                33       0             0                 0  ...   \n",
       "518                 55       0             0                 0  ...   \n",
       "1327                 9       0             1                 0  ...   \n",
       "766                 30       1             0                 0  ...   \n",
       "\n",
       "      neighborhood_Morningside Heights  neighborhood_Nolita  \\\n",
       "1262                                 0                    0   \n",
       "1490                                 0                    0   \n",
       "518                                  0                    0   \n",
       "1327                                 0                    0   \n",
       "766                                  0                    0   \n",
       "\n",
       "      neighborhood_Roosevelt Island  neighborhood_Soho  \\\n",
       "1262                              0                  0   \n",
       "1490                              0                  0   \n",
       "518                               0                  0   \n",
       "1327                              0                  0   \n",
       "766                               0                  0   \n",
       "\n",
       "      neighborhood_Stuyvesant Town/PCV  neighborhood_Tribeca  \\\n",
       "1262                                 0                     0   \n",
       "1490                                 0                     0   \n",
       "518                                  0                     0   \n",
       "1327                                 0                     0   \n",
       "766                                  0                     0   \n",
       "\n",
       "      neighborhood_Upper East Side  neighborhood_Upper West Side  \\\n",
       "1262                             0                             0   \n",
       "1490                             0                             0   \n",
       "518                              1                             0   \n",
       "1327                             0                             0   \n",
       "766                              1                             0   \n",
       "\n",
       "      neighborhood_Washington Heights  neighborhood_West Village  \n",
       "1262                                0                          0  \n",
       "1490                                0                          0  \n",
       "518                                 0                          0  \n",
       "1327                                0                          0  \n",
       "766                                 0                          0  \n",
       "\n",
       "[5 rows x 44 columns]"
      ]
     },
     "execution_count": 16,
     "metadata": {},
     "output_type": "execute_result"
    }
   ],
   "source": [
    "# onehot encoding\n",
    "#from sklearn.preprocessing import OrdinalEncoder # just to raise an ImportError if Scikit-Learn < 0.20\n",
    "#from sklearn.preprocessing import OneHotEncoder\n",
    "\n",
    "#X_train_cat = X_train_cleaned['neighborhood'].values.reshape(-1,1)\n",
    "\n",
    "#cat_encoder = OneHotEncoder(sparse=False)\n",
    "#X_train_cat_1hot = cat_encoder.fit_transform(X_train_cat)\n",
    "#X_train_cat_1hot\n",
    "\n",
    "X_train_cleaned = pd.get_dummies(data=X_train_cleaned, drop_first=True)\n",
    "X_train_cleaned.head()"
   ]
  },
  {
   "cell_type": "markdown",
   "metadata": {},
   "source": [
    "## Test Set"
   ]
  },
  {
   "cell_type": "code",
   "execution_count": 17,
   "metadata": {},
   "outputs": [],
   "source": [
    "X_test_cleaned = X_test.copy()"
   ]
  },
  {
   "cell_type": "code",
   "execution_count": 18,
   "metadata": {},
   "outputs": [
    {
     "data": {
      "text/plain": [
       "rental_id           0\n",
       "bedrooms            0\n",
       "bathrooms           0\n",
       "size_sqft           0\n",
       "min_to_subway       0\n",
       "floor               0\n",
       "building_age_yrs    0\n",
       "no_fee              0\n",
       "has_roofdeck        0\n",
       "has_washer_dryer    0\n",
       "has_doorman         0\n",
       "has_elevator        0\n",
       "has_dishwasher      0\n",
       "has_patio           0\n",
       "has_gym             0\n",
       "neighborhood        0\n",
       "borough             0\n",
       "dtype: int64"
      ]
     },
     "execution_count": 18,
     "metadata": {},
     "output_type": "execute_result"
    }
   ],
   "source": [
    "X_test_cleaned.isnull().sum() # not missisng values"
   ]
  },
  {
   "cell_type": "code",
   "execution_count": 19,
   "metadata": {},
   "outputs": [
    {
     "data": {
      "text/plain": [
       "(1167, 16)"
      ]
     },
     "execution_count": 19,
     "metadata": {},
     "output_type": "execute_result"
    }
   ],
   "source": [
    "# I'm dropping the borough column since this dataset is entirely about Manhattan\n",
    "X_test_cleaned = X_test_cleaned.drop([\"borough\"], axis=1)\n",
    "X_test_cleaned.shape"
   ]
  },
  {
   "cell_type": "code",
   "execution_count": 20,
   "metadata": {},
   "outputs": [
    {
     "data": {
      "text/plain": [
       "array(['Upper East Side', 'Midtown', 'Financial District', 'Chinatown',\n",
       "       'Soho', 'Upper West Side', 'Midtown East', 'Central Harlem',\n",
       "       'Flatiron', 'Gramercy Park', 'Midtown West', 'Chelsea',\n",
       "       'West Village', 'Greenwich Village', 'Lower East Side',\n",
       "       'East Village', 'Midtown South', 'Battery Park City',\n",
       "       'East Harlem', 'Central Park South', 'Little Italy', 'Tribeca',\n",
       "       'Morningside Heights', 'Inwood', 'Washington Heights',\n",
       "       'Roosevelt Island', 'Hamilton Heights', 'Long Island City',\n",
       "       'Stuyvesant Town/PCV', 'Nolita'], dtype=object)"
      ]
     },
     "execution_count": 20,
     "metadata": {},
     "output_type": "execute_result"
    }
   ],
   "source": [
    "X_test_cleaned[\"neighborhood\"].unique()"
   ]
  },
  {
   "cell_type": "code",
   "execution_count": 21,
   "metadata": {},
   "outputs": [
    {
     "data": {
      "text/html": [
       "<div>\n",
       "<style scoped>\n",
       "    .dataframe tbody tr th:only-of-type {\n",
       "        vertical-align: middle;\n",
       "    }\n",
       "\n",
       "    .dataframe tbody tr th {\n",
       "        vertical-align: top;\n",
       "    }\n",
       "\n",
       "    .dataframe thead th {\n",
       "        text-align: right;\n",
       "    }\n",
       "</style>\n",
       "<table border=\"1\" class=\"dataframe\">\n",
       "  <thead>\n",
       "    <tr style=\"text-align: right;\">\n",
       "      <th></th>\n",
       "      <th>rental_id</th>\n",
       "      <th>bedrooms</th>\n",
       "      <th>bathrooms</th>\n",
       "      <th>size_sqft</th>\n",
       "      <th>min_to_subway</th>\n",
       "      <th>floor</th>\n",
       "      <th>building_age_yrs</th>\n",
       "      <th>no_fee</th>\n",
       "      <th>has_roofdeck</th>\n",
       "      <th>has_washer_dryer</th>\n",
       "      <th>...</th>\n",
       "      <th>neighborhood_Morningside Heights</th>\n",
       "      <th>neighborhood_Nolita</th>\n",
       "      <th>neighborhood_Roosevelt Island</th>\n",
       "      <th>neighborhood_Soho</th>\n",
       "      <th>neighborhood_Stuyvesant Town/PCV</th>\n",
       "      <th>neighborhood_Tribeca</th>\n",
       "      <th>neighborhood_Upper East Side</th>\n",
       "      <th>neighborhood_Upper West Side</th>\n",
       "      <th>neighborhood_Washington Heights</th>\n",
       "      <th>neighborhood_West Village</th>\n",
       "    </tr>\n",
       "  </thead>\n",
       "  <tbody>\n",
       "    <tr>\n",
       "      <td>3463</td>\n",
       "      <td>7306</td>\n",
       "      <td>0.0</td>\n",
       "      <td>1</td>\n",
       "      <td>450</td>\n",
       "      <td>8</td>\n",
       "      <td>6.0</td>\n",
       "      <td>18</td>\n",
       "      <td>1</td>\n",
       "      <td>1</td>\n",
       "      <td>1</td>\n",
       "      <td>...</td>\n",
       "      <td>0</td>\n",
       "      <td>0</td>\n",
       "      <td>0</td>\n",
       "      <td>0</td>\n",
       "      <td>0</td>\n",
       "      <td>0</td>\n",
       "      <td>1</td>\n",
       "      <td>0</td>\n",
       "      <td>0</td>\n",
       "      <td>0</td>\n",
       "    </tr>\n",
       "    <tr>\n",
       "      <td>3502</td>\n",
       "      <td>7662</td>\n",
       "      <td>1.0</td>\n",
       "      <td>1</td>\n",
       "      <td>1050</td>\n",
       "      <td>2</td>\n",
       "      <td>39.0</td>\n",
       "      <td>30</td>\n",
       "      <td>0</td>\n",
       "      <td>0</td>\n",
       "      <td>0</td>\n",
       "      <td>...</td>\n",
       "      <td>0</td>\n",
       "      <td>0</td>\n",
       "      <td>0</td>\n",
       "      <td>0</td>\n",
       "      <td>0</td>\n",
       "      <td>0</td>\n",
       "      <td>0</td>\n",
       "      <td>0</td>\n",
       "      <td>0</td>\n",
       "      <td>0</td>\n",
       "    </tr>\n",
       "    <tr>\n",
       "      <td>2001</td>\n",
       "      <td>3761</td>\n",
       "      <td>0.0</td>\n",
       "      <td>1</td>\n",
       "      <td>525</td>\n",
       "      <td>2</td>\n",
       "      <td>10.0</td>\n",
       "      <td>90</td>\n",
       "      <td>1</td>\n",
       "      <td>0</td>\n",
       "      <td>0</td>\n",
       "      <td>...</td>\n",
       "      <td>0</td>\n",
       "      <td>0</td>\n",
       "      <td>0</td>\n",
       "      <td>0</td>\n",
       "      <td>0</td>\n",
       "      <td>0</td>\n",
       "      <td>0</td>\n",
       "      <td>0</td>\n",
       "      <td>0</td>\n",
       "      <td>0</td>\n",
       "    </tr>\n",
       "    <tr>\n",
       "      <td>2365</td>\n",
       "      <td>9328</td>\n",
       "      <td>0.0</td>\n",
       "      <td>0</td>\n",
       "      <td>986</td>\n",
       "      <td>3</td>\n",
       "      <td>3.0</td>\n",
       "      <td>25</td>\n",
       "      <td>0</td>\n",
       "      <td>0</td>\n",
       "      <td>0</td>\n",
       "      <td>...</td>\n",
       "      <td>0</td>\n",
       "      <td>0</td>\n",
       "      <td>0</td>\n",
       "      <td>0</td>\n",
       "      <td>0</td>\n",
       "      <td>0</td>\n",
       "      <td>0</td>\n",
       "      <td>0</td>\n",
       "      <td>0</td>\n",
       "      <td>0</td>\n",
       "    </tr>\n",
       "    <tr>\n",
       "      <td>2067</td>\n",
       "      <td>5532</td>\n",
       "      <td>0.0</td>\n",
       "      <td>1</td>\n",
       "      <td>473</td>\n",
       "      <td>4</td>\n",
       "      <td>6.0</td>\n",
       "      <td>47</td>\n",
       "      <td>1</td>\n",
       "      <td>0</td>\n",
       "      <td>0</td>\n",
       "      <td>...</td>\n",
       "      <td>0</td>\n",
       "      <td>0</td>\n",
       "      <td>0</td>\n",
       "      <td>0</td>\n",
       "      <td>0</td>\n",
       "      <td>0</td>\n",
       "      <td>0</td>\n",
       "      <td>0</td>\n",
       "      <td>0</td>\n",
       "      <td>0</td>\n",
       "    </tr>\n",
       "  </tbody>\n",
       "</table>\n",
       "<p>5 rows × 44 columns</p>\n",
       "</div>"
      ],
      "text/plain": [
       "      rental_id  bedrooms  bathrooms  size_sqft  min_to_subway  floor  \\\n",
       "3463       7306       0.0          1        450              8    6.0   \n",
       "3502       7662       1.0          1       1050              2   39.0   \n",
       "2001       3761       0.0          1        525              2   10.0   \n",
       "2365       9328       0.0          0        986              3    3.0   \n",
       "2067       5532       0.0          1        473              4    6.0   \n",
       "\n",
       "      building_age_yrs  no_fee  has_roofdeck  has_washer_dryer  ...  \\\n",
       "3463                18       1             1                 1  ...   \n",
       "3502                30       0             0                 0  ...   \n",
       "2001                90       1             0                 0  ...   \n",
       "2365                25       0             0                 0  ...   \n",
       "2067                47       1             0                 0  ...   \n",
       "\n",
       "      neighborhood_Morningside Heights  neighborhood_Nolita  \\\n",
       "3463                                 0                    0   \n",
       "3502                                 0                    0   \n",
       "2001                                 0                    0   \n",
       "2365                                 0                    0   \n",
       "2067                                 0                    0   \n",
       "\n",
       "      neighborhood_Roosevelt Island  neighborhood_Soho  \\\n",
       "3463                              0                  0   \n",
       "3502                              0                  0   \n",
       "2001                              0                  0   \n",
       "2365                              0                  0   \n",
       "2067                              0                  0   \n",
       "\n",
       "      neighborhood_Stuyvesant Town/PCV  neighborhood_Tribeca  \\\n",
       "3463                                 0                     0   \n",
       "3502                                 0                     0   \n",
       "2001                                 0                     0   \n",
       "2365                                 0                     0   \n",
       "2067                                 0                     0   \n",
       "\n",
       "      neighborhood_Upper East Side  neighborhood_Upper West Side  \\\n",
       "3463                             1                             0   \n",
       "3502                             0                             0   \n",
       "2001                             0                             0   \n",
       "2365                             0                             0   \n",
       "2067                             0                             0   \n",
       "\n",
       "      neighborhood_Washington Heights  neighborhood_West Village  \n",
       "3463                                0                          0  \n",
       "3502                                0                          0  \n",
       "2001                                0                          0  \n",
       "2365                                0                          0  \n",
       "2067                                0                          0  \n",
       "\n",
       "[5 rows x 44 columns]"
      ]
     },
     "execution_count": 21,
     "metadata": {},
     "output_type": "execute_result"
    }
   ],
   "source": [
    "# onehot encoding\n",
    "#from sklearn.preprocessing import OrdinalEncoder # just to raise an ImportError if Scikit-Learn < 0.20\n",
    "#from sklearn.preprocessing import OneHotEncoder\n",
    "\n",
    "#X_test_cat = X_test_cleaned['neighborhood'].values.reshape(-1,1)\n",
    "\n",
    "#cat_encoder = OneHotEncoder(sparse=False)\n",
    "#X_test_cat_1hot = cat_encoder.fit_transform(X_test_cat)\n",
    "#X_test_cat_1hot\n",
    "\n",
    "X_test_cleaned = pd.get_dummies(data=X_test_cleaned, drop_first=True)\n",
    "X_test_cleaned.head()"
   ]
  },
  {
   "cell_type": "markdown",
   "metadata": {},
   "source": [
    "###  Step 3: Examine your target attribute. Based on the data exploration you did in Project 1, confirm and examine the attribute you are going to predict."
   ]
  },
  {
   "cell_type": "code",
   "execution_count": 22,
   "metadata": {},
   "outputs": [],
   "source": [
    "# Examine and plot the distribution of the target attribute in your training set \n",
    "# (e.g., is it Gaussian, uniform, logarithmic). This will help you interpret the performance of \n",
    "# different algorithms on your data."
   ]
  },
  {
   "cell_type": "code",
   "execution_count": 23,
   "metadata": {},
   "outputs": [
    {
     "data": {
      "text/plain": [
       "<matplotlib.axes._subplots.AxesSubplot at 0x1dd414875c8>"
      ]
     },
     "execution_count": 23,
     "metadata": {},
     "output_type": "execute_result"
    },
    {
     "data": {
      "image/png": "[encoded data removed]",
      "text/plain": [
       "<Figure size 864x432 with 1 Axes>"
      ]
     },
     "metadata": {
      "needs_background": "light"
     },
     "output_type": "display_data"
    }
   ],
   "source": [
    "y_train.plot(kind='hist', bins=20, figsize=(12,6), facecolor='grey',edgecolor='red')"
   ]
  },
  {
   "cell_type": "code",
   "execution_count": 24,
   "metadata": {},
   "outputs": [
    {
     "data": {
      "text/plain": [
       "<matplotlib.axes._subplots.AxesSubplot at 0x1dd417aef88>"
      ]
     },
     "execution_count": 24,
     "metadata": {},
     "output_type": "execute_result"
    },
    {
     "data": {
      "image/png": "[encoded data removed]",
      "text/plain": [
       "<Figure size 432x288 with 1 Axes>"
      ]
     },
     "metadata": {
      "needs_background": "light"
     },
     "output_type": "display_data"
    }
   ],
   "source": [
    "y_train.plot.box()"
   ]
  },
  {
   "cell_type": "code",
   "execution_count": 25,
   "metadata": {},
   "outputs": [
    {
     "data": {
      "text/plain": [
       "count     2369.000000\n",
       "mean      5101.468552\n",
       "std       3111.489430\n",
       "min       1300.000000\n",
       "25%       3150.000000\n",
       "50%       4000.000000\n",
       "75%       6000.000000\n",
       "max      20000.000000\n",
       "Name: rent, dtype: float64"
      ]
     },
     "execution_count": 25,
     "metadata": {},
     "output_type": "execute_result"
    }
   ],
   "source": [
    "y_train.describe()"
   ]
  },
  {
   "cell_type": "markdown",
   "metadata": {},
   "source": [
    "### Step 4: Selected two of the following supervised learning algorithms, ideally one from the first half of the list and one from the second half of the list "
   ]
  },
  {
   "cell_type": "code",
   "execution_count": 26,
   "metadata": {
    "scrolled": true
   },
   "outputs": [],
   "source": [
    "#Decision Tree Regressor\n",
    "from sklearn.tree import DecisionTreeRegressor\n",
    "\n",
    "tree = DecisionTreeRegressor().fit(X_train_cleaned, y_train)"
   ]
  },
  {
   "cell_type": "code",
   "execution_count": 27,
   "metadata": {},
   "outputs": [
    {
     "name": "stdout",
     "output_type": "stream",
     "text": [
      "Test set R^2: 0.63\n",
      "Test set RMSE: 3933651.68\n",
      "Test set MAE: 1081.07\n"
     ]
    }
   ],
   "source": [
    "print(\"Test set R^2: {:.2f}\".format(tree.score(X_test_cleaned, y_test)))\n",
    "print(\"Test set RMSE: {:.2f}\".format(mean_squared_error(y_test, tree.predict(X_test_cleaned))))\n",
    "print(\"Test set MAE: {:.2f}\".format(mean_absolute_error(y_test, tree.predict(X_test_cleaned))))"
   ]
  },
  {
   "cell_type": "code",
   "execution_count": 28,
   "metadata": {},
   "outputs": [
    {
     "name": "stdout",
     "output_type": "stream",
     "text": [
      "Training set score: 0.82\n",
      "Test set R^2: 0.81\n",
      "Test set RMSE: 1997387.86\n",
      "Test set MAE: 892.62\n",
      "Number of features used: 36\n"
     ]
    }
   ],
   "source": [
    "#lasso regresssion\n",
    "from sklearn.linear_model import Lasso\n",
    "\n",
    "lasso = Lasso().fit(X_train_cleaned, y_train)\n",
    "print(\"Training set score: {:.2f}\".format(lasso.score(X_train_cleaned, y_train)))\n",
    "print(\"Test set R^2: {:.2f}\".format(lasso.score(X_test_cleaned, y_test)))\n",
    "print(\"Test set RMSE: {:.2f}\".format(mean_squared_error(y_test, lasso.predict(X_test_cleaned))))\n",
    "print(\"Test set MAE: {:.2f}\".format(mean_absolute_error(y_test, lasso.predict(X_test_cleaned))))\n",
    "print(\"Number of features used:\", np.sum(lasso.coef_ != 0))"
   ]
  },
  {
   "cell_type": "markdown",
   "metadata": {},
   "source": [
    "### Step 5: For each of your selected models"
   ]
  },
  {
   "cell_type": "markdown",
   "metadata": {},
   "source": [
    "## Decision Tree Regression"
   ]
  },
  {
   "cell_type": "markdown",
   "metadata": {},
   "source": [
    "### Grid Search for decision tree regression"
   ]
  },
  {
   "cell_type": "code",
   "execution_count": 29,
   "metadata": {},
   "outputs": [],
   "source": [
    "# references: https://www.dezyre.com/recipes/optimize-hyper-parameters-of-decisiontree-model-using-grid-search-in-python\n",
    "\n",
    "from sklearn import tree\n",
    "from sklearn.pipeline import Pipeline\n",
    "from sklearn.model_selection import GridSearchCV\n",
    "from sklearn.preprocessing import StandardScaler"
   ]
  },
  {
   "cell_type": "code",
   "execution_count": 30,
   "metadata": {},
   "outputs": [],
   "source": [
    "std_slc = StandardScaler()\n",
    "pca = decomposition.PCA()\n",
    "dec_tree = tree.DecisionTreeClassifier()"
   ]
  },
  {
   "cell_type": "code",
   "execution_count": 31,
   "metadata": {},
   "outputs": [],
   "source": [
    "pipe = Pipeline(steps=[('std_slc', std_slc),\n",
    "                           ('pca', pca),\n",
    "                           ('dec_tree', dec_tree)])\n",
    "\n",
    "n_components = list(range(1,X.shape[1]+1,1))\n",
    "criterion = ['gini', 'entropy']\n",
    "max_depth = [2,4,6,8,10,12]\n",
    "\n",
    "parameters = dict(pca__n_components=n_components,\n",
    "                      dec_tree__criterion=criterion,\n",
    "                      dec_tree__max_depth=max_depth)"
   ]
  },
  {
   "cell_type": "code",
   "execution_count": 32,
   "metadata": {},
   "outputs": [
    {
     "name": "stderr",
     "output_type": "stream",
     "text": [
      "C:\\Users\\kathi\\Anaconda3\\lib\\site-packages\\sklearn\\model_selection\\_split.py:1978: FutureWarning: The default value of cv will change from 3 to 5 in version 0.22. Specify it explicitly to silence this warning.\n",
      "  warnings.warn(CV_WARNING, FutureWarning)\n",
      "C:\\Users\\kathi\\Anaconda3\\lib\\site-packages\\sklearn\\model_selection\\_split.py:657: Warning: The least populated class in y has only 1 members, which is too few. The minimum number of members in any class cannot be less than n_splits=3.\n",
      "  % (min_groups, self.n_splits)), Warning)\n"
     ]
    },
    {
     "name": "stdout",
     "output_type": "stream",
     "text": [
      "Best Criterion: gini\n",
      "Best max_depth: 4\n",
      "Best Number Of Components: 6\n",
      "\n",
      "DecisionTreeClassifier(class_weight=None, criterion='gini', max_depth=4,\n",
      "                       max_features=None, max_leaf_nodes=None,\n",
      "                       min_impurity_decrease=0.0, min_impurity_split=None,\n",
      "                       min_samples_leaf=1, min_samples_split=2,\n",
      "                       min_weight_fraction_leaf=0.0, presort=False,\n",
      "                       random_state=None, splitter='best')\n"
     ]
    },
    {
     "name": "stderr",
     "output_type": "stream",
     "text": [
      "C:\\Users\\kathi\\Anaconda3\\lib\\site-packages\\sklearn\\model_selection\\_search.py:814: DeprecationWarning: The default of the `iid` parameter will change from True to False in version 0.22 and will be removed in 0.24. This will change numeric results when test-set sizes are unequal.\n",
      "  DeprecationWarning)\n"
     ]
    }
   ],
   "source": [
    "clf_GS = GridSearchCV(pipe, parameters)\n",
    "clf_GS.fit(X_train_cleaned, y_train)\n",
    "\n",
    "print('Best Criterion:', clf_GS.best_estimator_.get_params()['dec_tree__criterion'])\n",
    "print('Best max_depth:', clf_GS.best_estimator_.get_params()['dec_tree__max_depth'])\n",
    "print('Best Number Of Components:', clf_GS.best_estimator_.get_params()['pca__n_components'])\n",
    "print(); print(clf_GS.best_estimator_.get_params()['dec_tree'])"
   ]
  },
  {
   "cell_type": "code",
   "execution_count": 37,
   "metadata": {
    "scrolled": true
   },
   "outputs": [
    {
     "name": "stdout",
     "output_type": "stream",
     "text": [
      "Test set R^2: 0.77\n",
      "Test set RMSE: 2478468.80\n",
      "Test set MAE: 1017.00\n"
     ]
    }
   ],
   "source": [
    "from sklearn.tree import DecisionTreeRegressor\n",
    "\n",
    "tree = DecisionTreeRegressor(max_depth=4).fit(X_train_cleaned, y_train)\n",
    "\n",
    "print(\"Test set R^2: {:.2f}\".format(tree.score(X_test_cleaned, y_test)))\n",
    "print(\"Test set RMSE: {:.2f}\".format(mean_squared_error(y_test, tree.predict(X_test_cleaned))))\n",
    "print(\"Test set MAE: {:.2f}\".format(mean_absolute_error(y_test, tree.predict(X_test_cleaned))))"
   ]
  },
  {
   "cell_type": "code",
   "execution_count": 38,
   "metadata": {},
   "outputs": [
    {
     "name": "stdout",
     "output_type": "stream",
     "text": [
      "Test set R^2: 0.75\n",
      "Test set RMSE: 2635233.93\n",
      "Test set MAE: 1042.24\n"
     ]
    }
   ],
   "source": [
    "tree = DecisionTreeRegressor(max_depth=3).fit(X_train_cleaned, y_train)\n",
    "\n",
    "print(\"Test set R^2: {:.2f}\".format(tree.score(X_test_cleaned, y_test)))\n",
    "print(\"Test set RMSE: {:.2f}\".format(mean_squared_error(y_test, tree.predict(X_test_cleaned))))\n",
    "print(\"Test set MAE: {:.2f}\".format(mean_absolute_error(y_test, tree.predict(X_test_cleaned))))"
   ]
  },
  {
   "cell_type": "markdown",
   "metadata": {},
   "source": [
    "## Lasso Regression "
   ]
  },
  {
   "cell_type": "markdown",
   "metadata": {},
   "source": [
    "### Grid Search for lasso regression"
   ]
  },
  {
   "cell_type": "code",
   "execution_count": 58,
   "metadata": {},
   "outputs": [
    {
     "name": "stdout",
     "output_type": "stream",
     "text": [
      "Best alpha  1.0\n",
      "Best Score R2: 0.81\n"
     ]
    },
    {
     "name": "stderr",
     "output_type": "stream",
     "text": [
      "C:\\Users\\kathi\\Anaconda3\\lib\\site-packages\\sklearn\\model_selection\\_validation.py:516: UserWarning: With alpha=0, this algorithm does not converge well. You are advised to use the LinearRegression estimator\n",
      "  estimator.fit(X_train, y_train, **fit_params)\n",
      "C:\\Users\\kathi\\Anaconda3\\lib\\site-packages\\sklearn\\linear_model\\coordinate_descent.py:475: UserWarning: Coordinate descent with no regularization may lead to unexpected results and is discouraged.\n",
      "  positive)\n",
      "C:\\Users\\kathi\\Anaconda3\\lib\\site-packages\\sklearn\\linear_model\\coordinate_descent.py:475: ConvergenceWarning: Objective did not converge. You might want to increase the number of iterations. Duality gap: 1484642418.508277, tolerance: 1573369.8423734012\n",
      "  positive)\n",
      "C:\\Users\\kathi\\Anaconda3\\lib\\site-packages\\sklearn\\model_selection\\_validation.py:516: UserWarning: With alpha=0, this algorithm does not converge well. You are advised to use the LinearRegression estimator\n",
      "  estimator.fit(X_train, y_train, **fit_params)\n",
      "C:\\Users\\kathi\\Anaconda3\\lib\\site-packages\\sklearn\\linear_model\\coordinate_descent.py:475: UserWarning: Coordinate descent with no regularization may lead to unexpected results and is discouraged.\n",
      "  positive)\n",
      "C:\\Users\\kathi\\Anaconda3\\lib\\site-packages\\sklearn\\linear_model\\coordinate_descent.py:475: ConvergenceWarning: Objective did not converge. You might want to increase the number of iterations. Duality gap: 1243184896.9990826, tolerance: 1419361.9887697275\n",
      "  positive)\n",
      "C:\\Users\\kathi\\Anaconda3\\lib\\site-packages\\sklearn\\model_selection\\_validation.py:516: UserWarning: With alpha=0, this algorithm does not converge well. You are advised to use the LinearRegression estimator\n",
      "  estimator.fit(X_train, y_train, **fit_params)\n",
      "C:\\Users\\kathi\\Anaconda3\\lib\\site-packages\\sklearn\\linear_model\\coordinate_descent.py:475: UserWarning: Coordinate descent with no regularization may lead to unexpected results and is discouraged.\n",
      "  positive)\n",
      "C:\\Users\\kathi\\Anaconda3\\lib\\site-packages\\sklearn\\linear_model\\coordinate_descent.py:475: ConvergenceWarning: Objective did not converge. You might want to increase the number of iterations. Duality gap: 1390457228.6826992, tolerance: 1590032.2273424685\n",
      "  positive)\n"
     ]
    }
   ],
   "source": [
    "# REFERENCES: https://medium.com/analytics-vidhya/hyperparameters-80cb4f442e5\n",
    "\n",
    "\n",
    "alphas = np.array([5, 0.5, 0.05, 0.005, 0.0005, 1, 0.1, 0.01, 0.001, 0.0001, 0 ])\n",
    "\n",
    "model = Lasso()\n",
    "grid = GridSearchCV(estimator=model, param_grid=dict(alpha=alphas))\n",
    "\n",
    "grid.fit(X_train_cleaned, y_train)\n",
    "\n",
    "print(\"Best alpha \",grid.best_estimator_.alpha)\n",
    "print(\"Best Score R2: {:.2f}\".format(grid.best_score_))"
   ]
  },
  {
   "cell_type": "code",
   "execution_count": 54,
   "metadata": {},
   "outputs": [
    {
     "name": "stdout",
     "output_type": "stream",
     "text": [
      "Training set score: 0.82\n",
      "Test set R^2: 0.81\n",
      "Test set RMSE: 1997387.86\n",
      "Test set MAE: 892.62\n",
      "Number of features used: 36\n"
     ]
    }
   ],
   "source": [
    "# we increase the default setting of \"max_iter\",\n",
    "# otherwise the model would warn us that we should increase max_iter.\n",
    "lasso1 = Lasso(alpha=1.0, max_iter=1000000).fit(X_train_cleaned, y_train)\n",
    "print(\"Training set score: {:.2f}\".format(lasso1.score(X_train_cleaned, y_train)))\n",
    "print(\"Test set R^2: {:.2f}\".format(lasso1.score(X_test_cleaned, y_test)))\n",
    "print(\"Test set RMSE: {:.2f}\".format(mean_squared_error(y_test, lasso1.predict(X_test_cleaned))))\n",
    "print(\"Test set MAE: {:.2f}\".format(mean_absolute_error(y_test, lasso1.predict(X_test_cleaned))))\n",
    "print(\"Number of features used:\", np.sum(lasso1.coef_ != 0))"
   ]
  },
  {
   "cell_type": "code",
   "execution_count": 55,
   "metadata": {},
   "outputs": [
    {
     "name": "stdout",
     "output_type": "stream",
     "text": [
      "Training set score: 0.82\n",
      "Test set R^2: 0.81\n",
      "Test set RMSE: 1996127.49\n",
      "Test set MAE: 892.85\n",
      "Number of features used: 39\n"
     ]
    }
   ],
   "source": [
    "# we increase the default setting of \"max_iter\",\n",
    "# otherwise the model would warn us that we should increase max_iter.\n",
    "lasso05 = Lasso(alpha=0.5, max_iter=10000).fit(X_train_cleaned, y_train)\n",
    "print(\"Training set score: {:.2f}\".format(lasso05.score(X_train_cleaned, y_train)))\n",
    "print(\"Test set R^2: {:.2f}\".format(lasso05.score(X_test_cleaned, y_test)))\n",
    "print(\"Test set RMSE: {:.2f}\".format(mean_squared_error(y_test, lasso05.predict(X_test_cleaned))))\n",
    "print(\"Test set MAE: {:.2f}\".format(mean_absolute_error(y_test, lasso05.predict(X_test_cleaned))))\n",
    "print(\"Number of features used:\", np.sum(lasso05.coef_ != 0))"
   ]
  },
  {
   "cell_type": "code",
   "execution_count": null,
   "metadata": {},
   "outputs": [],
   "source": []
  }
 ],
 "metadata": {
  "kernelspec": {
   "display_name": "Python 3",
   "language": "python",
   "name": "python3"
  },
  "language_info": {
   "codemirror_mode": {
    "name": "ipython",
    "version": 3
   },
   "file_extension": ".py",
   "mimetype": "text/x-python",
   "name": "python",
   "nbconvert_exporter": "python",
   "pygments_lexer": "ipython3",
   "version": "3.7.4"
  }
 },
 "nbformat": 4,
 "nbformat_minor": 2
}
