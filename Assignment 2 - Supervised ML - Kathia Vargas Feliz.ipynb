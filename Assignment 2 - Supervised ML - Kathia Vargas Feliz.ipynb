{
 "cells": [
  {
   "cell_type": "code",
   "execution_count": 1,
   "metadata": {},
   "outputs": [],
   "source": [
    "# StreetEasy is New York City’s leading real estate marketplace. You will be working with a\n",
    "# dataset that contains a sample of 3,540 rentals listings in Manhattan.\n",
    "# https://www.kaggle.com/zohaib30/streeteasy-dataset?select=manhattan.csv"
   ]
  },
  {
   "cell_type": "code",
   "execution_count": 2,
   "metadata": {},
   "outputs": [],
   "source": [
    "## for data\n",
    "import pandas as pd\n",
    "import numpy as np\n",
    "## for plotting\n",
    "import matplotlib.pyplot as plt\n",
    "import seaborn as sns\n",
    "## for statistical tests\n",
    "import scipy\n",
    "import statsmodels.formula.api as smf\n",
    "import statsmodels.api as sm\n",
    "## for machine learning\n",
    "from sklearn import model_selection, preprocessing, feature_selection, ensemble, linear_model, metrics, decomposition\n",
    "from sklearn.metrics import mean_squared_error\n",
    "from sklearn.metrics import mean_absolute_error\n",
    "import warnings\n",
    "warnings.simplefilter(action='ignore', category=FutureWarning)"
   ]
  },
  {
   "cell_type": "markdown",
   "metadata": {},
   "source": [
    "### Step 1: Load your data, including testing/training split from Project 1."
   ]
  },
  {
   "cell_type": "code",
   "execution_count": 3,
   "metadata": {},
   "outputs": [
    {
     "data": {
      "text/plain": [
       "(3539, 18)"
      ]
     },
     "execution_count": 3,
     "metadata": {},
     "output_type": "execute_result"
    }
   ],
   "source": [
    "manhattan = pd.read_csv('manhattan.csv')\n",
    "manhattan.shape\n",
    "#below we can see our dataset has 3539 rows and 18 columns "
   ]
  },
  {
   "cell_type": "code",
   "execution_count": 4,
   "metadata": {},
   "outputs": [],
   "source": [
    "## I had big issues with my test set, and after trying different methods,\n",
    "## I found the solution was dropping the underrepresented neigborhoods from the beginning of the analysis"
   ]
  },
  {
   "cell_type": "code",
   "execution_count": 5,
   "metadata": {},
   "outputs": [],
   "source": [
    "neig_count = manhattan[\"neighborhood\"].value_counts()"
   ]
  },
  {
   "cell_type": "code",
   "execution_count": 6,
   "metadata": {},
   "outputs": [
    {
     "data": {
      "text/plain": [
       "Upper West Side        579\n",
       "Upper East Side        500\n",
       "Midtown East           460\n",
       "Midtown West           314\n",
       "Financial District     268\n",
       "Chelsea                182\n",
       "Flatiron               132\n",
       "Midtown                119\n",
       "Tribeca                119\n",
       "East Village           108\n",
       "Battery Park City      104\n",
       "Midtown South           85\n",
       "Central Harlem          82\n",
       "West Village            67\n",
       "Greenwich Village       66\n",
       "Gramercy Park           61\n",
       "Soho                    58\n",
       "Washington Heights      54\n",
       "Lower East Side         41\n",
       "East Harlem             41\n",
       "Central Park South      23\n",
       "Hamilton Heights        16\n",
       "Morningside Heights     13\n",
       "Inwood                  12\n",
       "Nolita                   9\n",
       "Chinatown                8\n",
       "Roosevelt Island         5\n",
       "Long Island City         4\n",
       "Name: neighborhood, dtype: int64"
      ]
     },
     "execution_count": 6,
     "metadata": {},
     "output_type": "execute_result"
    }
   ],
   "source": [
    "data = neig_count[neig_count > 3]\n",
    "data"
   ]
  },
  {
   "cell_type": "code",
   "execution_count": 7,
   "metadata": {},
   "outputs": [],
   "source": [
    "manhattan2 = manhattan[manhattan['neighborhood'].isin(data.index)]"
   ]
  },
  {
   "cell_type": "code",
   "execution_count": 8,
   "metadata": {},
   "outputs": [
    {
     "data": {
      "text/html": [
       "<div>\n",
       "<style scoped>\n",
       "    .dataframe tbody tr th:only-of-type {\n",
       "        vertical-align: middle;\n",
       "    }\n",
       "\n",
       "    .dataframe tbody tr th {\n",
       "        vertical-align: top;\n",
       "    }\n",
       "\n",
       "    .dataframe thead th {\n",
       "        text-align: right;\n",
       "    }\n",
       "</style>\n",
       "<table border=\"1\" class=\"dataframe\">\n",
       "  <thead>\n",
       "    <tr style=\"text-align: right;\">\n",
       "      <th></th>\n",
       "      <th>rental_id</th>\n",
       "      <th>rent</th>\n",
       "      <th>bedrooms</th>\n",
       "      <th>bathrooms</th>\n",
       "      <th>size_sqft</th>\n",
       "      <th>min_to_subway</th>\n",
       "      <th>floor</th>\n",
       "      <th>building_age_yrs</th>\n",
       "      <th>no_fee</th>\n",
       "      <th>has_roofdeck</th>\n",
       "      <th>has_washer_dryer</th>\n",
       "      <th>has_doorman</th>\n",
       "      <th>has_elevator</th>\n",
       "      <th>has_dishwasher</th>\n",
       "      <th>has_patio</th>\n",
       "      <th>has_gym</th>\n",
       "      <th>neighborhood</th>\n",
       "      <th>borough</th>\n",
       "    </tr>\n",
       "  </thead>\n",
       "  <tbody>\n",
       "    <tr>\n",
       "      <td>0</td>\n",
       "      <td>1545</td>\n",
       "      <td>2550</td>\n",
       "      <td>0.0</td>\n",
       "      <td>1</td>\n",
       "      <td>480</td>\n",
       "      <td>9</td>\n",
       "      <td>2.0</td>\n",
       "      <td>17</td>\n",
       "      <td>1</td>\n",
       "      <td>1</td>\n",
       "      <td>0</td>\n",
       "      <td>0</td>\n",
       "      <td>1</td>\n",
       "      <td>1</td>\n",
       "      <td>0</td>\n",
       "      <td>1</td>\n",
       "      <td>Upper East Side</td>\n",
       "      <td>Manhattan</td>\n",
       "    </tr>\n",
       "    <tr>\n",
       "      <td>1</td>\n",
       "      <td>2472</td>\n",
       "      <td>11500</td>\n",
       "      <td>2.0</td>\n",
       "      <td>2</td>\n",
       "      <td>2000</td>\n",
       "      <td>4</td>\n",
       "      <td>1.0</td>\n",
       "      <td>96</td>\n",
       "      <td>0</td>\n",
       "      <td>0</td>\n",
       "      <td>0</td>\n",
       "      <td>0</td>\n",
       "      <td>0</td>\n",
       "      <td>0</td>\n",
       "      <td>0</td>\n",
       "      <td>0</td>\n",
       "      <td>Greenwich Village</td>\n",
       "      <td>Manhattan</td>\n",
       "    </tr>\n",
       "    <tr>\n",
       "      <td>2</td>\n",
       "      <td>2919</td>\n",
       "      <td>4500</td>\n",
       "      <td>1.0</td>\n",
       "      <td>1</td>\n",
       "      <td>916</td>\n",
       "      <td>2</td>\n",
       "      <td>51.0</td>\n",
       "      <td>29</td>\n",
       "      <td>0</td>\n",
       "      <td>1</td>\n",
       "      <td>0</td>\n",
       "      <td>1</td>\n",
       "      <td>1</td>\n",
       "      <td>1</td>\n",
       "      <td>0</td>\n",
       "      <td>0</td>\n",
       "      <td>Midtown</td>\n",
       "      <td>Manhattan</td>\n",
       "    </tr>\n",
       "    <tr>\n",
       "      <td>3</td>\n",
       "      <td>2790</td>\n",
       "      <td>4795</td>\n",
       "      <td>1.0</td>\n",
       "      <td>1</td>\n",
       "      <td>975</td>\n",
       "      <td>3</td>\n",
       "      <td>8.0</td>\n",
       "      <td>31</td>\n",
       "      <td>0</td>\n",
       "      <td>0</td>\n",
       "      <td>0</td>\n",
       "      <td>1</td>\n",
       "      <td>1</td>\n",
       "      <td>1</td>\n",
       "      <td>0</td>\n",
       "      <td>1</td>\n",
       "      <td>Greenwich Village</td>\n",
       "      <td>Manhattan</td>\n",
       "    </tr>\n",
       "    <tr>\n",
       "      <td>4</td>\n",
       "      <td>3946</td>\n",
       "      <td>17500</td>\n",
       "      <td>2.0</td>\n",
       "      <td>2</td>\n",
       "      <td>4800</td>\n",
       "      <td>3</td>\n",
       "      <td>4.0</td>\n",
       "      <td>136</td>\n",
       "      <td>0</td>\n",
       "      <td>0</td>\n",
       "      <td>0</td>\n",
       "      <td>1</td>\n",
       "      <td>1</td>\n",
       "      <td>1</td>\n",
       "      <td>0</td>\n",
       "      <td>1</td>\n",
       "      <td>Soho</td>\n",
       "      <td>Manhattan</td>\n",
       "    </tr>\n",
       "  </tbody>\n",
       "</table>\n",
       "</div>"
      ],
      "text/plain": [
       "   rental_id   rent  bedrooms  bathrooms  size_sqft  min_to_subway  floor  \\\n",
       "0       1545   2550       0.0          1        480              9    2.0   \n",
       "1       2472  11500       2.0          2       2000              4    1.0   \n",
       "2       2919   4500       1.0          1        916              2   51.0   \n",
       "3       2790   4795       1.0          1        975              3    8.0   \n",
       "4       3946  17500       2.0          2       4800              3    4.0   \n",
       "\n",
       "   building_age_yrs  no_fee  has_roofdeck  has_washer_dryer  has_doorman  \\\n",
       "0                17       1             1                 0            0   \n",
       "1                96       0             0                 0            0   \n",
       "2                29       0             1                 0            1   \n",
       "3                31       0             0                 0            1   \n",
       "4               136       0             0                 0            1   \n",
       "\n",
       "   has_elevator  has_dishwasher  has_patio  has_gym       neighborhood  \\\n",
       "0             1               1          0        1    Upper East Side   \n",
       "1             0               0          0        0  Greenwich Village   \n",
       "2             1               1          0        0            Midtown   \n",
       "3             1               1          0        1  Greenwich Village   \n",
       "4             1               1          0        1               Soho   \n",
       "\n",
       "     borough  \n",
       "0  Manhattan  \n",
       "1  Manhattan  \n",
       "2  Manhattan  \n",
       "3  Manhattan  \n",
       "4  Manhattan  "
      ]
     },
     "execution_count": 8,
     "metadata": {},
     "output_type": "execute_result"
    }
   ],
   "source": [
    "manhattan2.head()"
   ]
  },
  {
   "cell_type": "code",
   "execution_count": 9,
   "metadata": {},
   "outputs": [
    {
     "name": "stdout",
     "output_type": "stream",
     "text": [
      "0     2550\n",
      "1    11500\n",
      "2     4500\n",
      "3     4795\n",
      "4    17500\n",
      "Name: rent, dtype: int64\n"
     ]
    }
   ],
   "source": [
    "y = manhattan2[\"rent\"]\n",
    "print(y.head()) # y variable"
   ]
  },
  {
   "cell_type": "code",
   "execution_count": 10,
   "metadata": {},
   "outputs": [
    {
     "name": "stdout",
     "output_type": "stream",
     "text": [
      "   rental_id  bedrooms  bathrooms  size_sqft  min_to_subway  floor  \\\n",
      "0       1545       0.0          1        480              9    2.0   \n",
      "1       2472       2.0          2       2000              4    1.0   \n",
      "2       2919       1.0          1        916              2   51.0   \n",
      "3       2790       1.0          1        975              3    8.0   \n",
      "4       3946       2.0          2       4800              3    4.0   \n",
      "\n",
      "   building_age_yrs  no_fee  has_roofdeck  has_washer_dryer  has_doorman  \\\n",
      "0                17       1             1                 0            0   \n",
      "1                96       0             0                 0            0   \n",
      "2                29       0             1                 0            1   \n",
      "3                31       0             0                 0            1   \n",
      "4               136       0             0                 0            1   \n",
      "\n",
      "   has_elevator  has_dishwasher  has_patio  has_gym       neighborhood  \\\n",
      "0             1               1          0        1    Upper East Side   \n",
      "1             0               0          0        0  Greenwich Village   \n",
      "2             1               1          0        0            Midtown   \n",
      "3             1               1          0        1  Greenwich Village   \n",
      "4             1               1          0        1               Soho   \n",
      "\n",
      "     borough  \n",
      "0  Manhattan  \n",
      "1  Manhattan  \n",
      "2  Manhattan  \n",
      "3  Manhattan  \n",
      "4  Manhattan  \n"
     ]
    }
   ],
   "source": [
    "X = manhattan2.drop([\"rent\"], axis=1)\n",
    "print(X.head()) # X variable"
   ]
  },
  {
   "cell_type": "code",
   "execution_count": 11,
   "metadata": {},
   "outputs": [],
   "source": [
    "from sklearn.model_selection import train_test_split\n",
    "\n",
    "# split data and labels into a training and a test set\n",
    "X_train, X_test, y_train, y_test = train_test_split(X, y, random_state=0, test_size=0.33)"
   ]
  },
  {
   "cell_type": "code",
   "execution_count": 12,
   "metadata": {},
   "outputs": [
    {
     "data": {
      "text/plain": [
       "(2365, 17)"
      ]
     },
     "execution_count": 12,
     "metadata": {},
     "output_type": "execute_result"
    }
   ],
   "source": [
    "X_train.shape #33% of the data"
   ]
  },
  {
   "cell_type": "code",
   "execution_count": 13,
   "metadata": {},
   "outputs": [
    {
     "data": {
      "text/plain": [
       "(1165, 17)"
      ]
     },
     "execution_count": 13,
     "metadata": {},
     "output_type": "execute_result"
    }
   ],
   "source": [
    "X_test.shape #67% of the data"
   ]
  },
  {
   "cell_type": "markdown",
   "metadata": {},
   "source": [
    "### Step 2: (If not already done in Project 1) Prepare your data"
   ]
  },
  {
   "cell_type": "markdown",
   "metadata": {},
   "source": [
    "## Training Set"
   ]
  },
  {
   "cell_type": "code",
   "execution_count": 14,
   "metadata": {},
   "outputs": [],
   "source": [
    "X_train_cleaned = X_train.copy() # copy of train dataset"
   ]
  },
  {
   "cell_type": "code",
   "execution_count": 15,
   "metadata": {},
   "outputs": [
    {
     "data": {
      "text/plain": [
       "rental_id           0\n",
       "bedrooms            0\n",
       "bathrooms           0\n",
       "size_sqft           0\n",
       "min_to_subway       0\n",
       "floor               0\n",
       "building_age_yrs    0\n",
       "no_fee              0\n",
       "has_roofdeck        0\n",
       "has_washer_dryer    0\n",
       "has_doorman         0\n",
       "has_elevator        0\n",
       "has_dishwasher      0\n",
       "has_patio           0\n",
       "has_gym             0\n",
       "neighborhood        0\n",
       "borough             0\n",
       "dtype: int64"
      ]
     },
     "execution_count": 15,
     "metadata": {},
     "output_type": "execute_result"
    }
   ],
   "source": [
    "X_train_cleaned.isnull().sum() # not missing values"
   ]
  },
  {
   "cell_type": "code",
   "execution_count": 16,
   "metadata": {},
   "outputs": [
    {
     "data": {
      "text/plain": [
       "(2365, 16)"
      ]
     },
     "execution_count": 16,
     "metadata": {},
     "output_type": "execute_result"
    }
   ],
   "source": [
    "# I'm dropping the borough column since this dataset is entirely about Manhattan\n",
    "X_train_cleaned = X_train_cleaned.drop([\"borough\"], axis=1)\n",
    "X_train_cleaned.shape"
   ]
  },
  {
   "cell_type": "code",
   "execution_count": 18,
   "metadata": {},
   "outputs": [
    {
     "data": {
      "text/html": [
       "<div>\n",
       "<style scoped>\n",
       "    .dataframe tbody tr th:only-of-type {\n",
       "        vertical-align: middle;\n",
       "    }\n",
       "\n",
       "    .dataframe tbody tr th {\n",
       "        vertical-align: top;\n",
       "    }\n",
       "\n",
       "    .dataframe thead th {\n",
       "        text-align: right;\n",
       "    }\n",
       "</style>\n",
       "<table border=\"1\" class=\"dataframe\">\n",
       "  <thead>\n",
       "    <tr style=\"text-align: right;\">\n",
       "      <th></th>\n",
       "      <th>rental_id</th>\n",
       "      <th>bedrooms</th>\n",
       "      <th>bathrooms</th>\n",
       "      <th>size_sqft</th>\n",
       "      <th>min_to_subway</th>\n",
       "      <th>floor</th>\n",
       "      <th>building_age_yrs</th>\n",
       "      <th>no_fee</th>\n",
       "      <th>has_roofdeck</th>\n",
       "      <th>has_washer_dryer</th>\n",
       "      <th>...</th>\n",
       "      <th>neighborhood_Midtown West</th>\n",
       "      <th>neighborhood_Morningside Heights</th>\n",
       "      <th>neighborhood_Nolita</th>\n",
       "      <th>neighborhood_Roosevelt Island</th>\n",
       "      <th>neighborhood_Soho</th>\n",
       "      <th>neighborhood_Tribeca</th>\n",
       "      <th>neighborhood_Upper East Side</th>\n",
       "      <th>neighborhood_Upper West Side</th>\n",
       "      <th>neighborhood_Washington Heights</th>\n",
       "      <th>neighborhood_West Village</th>\n",
       "    </tr>\n",
       "  </thead>\n",
       "  <tbody>\n",
       "    <tr>\n",
       "      <td>520</td>\n",
       "      <td>8405</td>\n",
       "      <td>2.0</td>\n",
       "      <td>2</td>\n",
       "      <td>1644</td>\n",
       "      <td>1</td>\n",
       "      <td>5.0</td>\n",
       "      <td>89</td>\n",
       "      <td>0</td>\n",
       "      <td>0</td>\n",
       "      <td>0</td>\n",
       "      <td>...</td>\n",
       "      <td>0</td>\n",
       "      <td>0</td>\n",
       "      <td>0</td>\n",
       "      <td>0</td>\n",
       "      <td>0</td>\n",
       "      <td>0</td>\n",
       "      <td>1</td>\n",
       "      <td>0</td>\n",
       "      <td>0</td>\n",
       "      <td>0</td>\n",
       "    </tr>\n",
       "    <tr>\n",
       "      <td>2587</td>\n",
       "      <td>4843</td>\n",
       "      <td>3.0</td>\n",
       "      <td>1</td>\n",
       "      <td>1100</td>\n",
       "      <td>9</td>\n",
       "      <td>15.0</td>\n",
       "      <td>86</td>\n",
       "      <td>1</td>\n",
       "      <td>1</td>\n",
       "      <td>1</td>\n",
       "      <td>...</td>\n",
       "      <td>0</td>\n",
       "      <td>0</td>\n",
       "      <td>0</td>\n",
       "      <td>0</td>\n",
       "      <td>0</td>\n",
       "      <td>0</td>\n",
       "      <td>0</td>\n",
       "      <td>0</td>\n",
       "      <td>0</td>\n",
       "      <td>0</td>\n",
       "    </tr>\n",
       "    <tr>\n",
       "      <td>768</td>\n",
       "      <td>2152</td>\n",
       "      <td>2.0</td>\n",
       "      <td>1</td>\n",
       "      <td>700</td>\n",
       "      <td>5</td>\n",
       "      <td>5.0</td>\n",
       "      <td>96</td>\n",
       "      <td>0</td>\n",
       "      <td>0</td>\n",
       "      <td>0</td>\n",
       "      <td>...</td>\n",
       "      <td>0</td>\n",
       "      <td>0</td>\n",
       "      <td>0</td>\n",
       "      <td>0</td>\n",
       "      <td>0</td>\n",
       "      <td>0</td>\n",
       "      <td>0</td>\n",
       "      <td>1</td>\n",
       "      <td>0</td>\n",
       "      <td>0</td>\n",
       "    </tr>\n",
       "    <tr>\n",
       "      <td>1775</td>\n",
       "      <td>2578</td>\n",
       "      <td>0.0</td>\n",
       "      <td>1</td>\n",
       "      <td>583</td>\n",
       "      <td>4</td>\n",
       "      <td>17.0</td>\n",
       "      <td>47</td>\n",
       "      <td>1</td>\n",
       "      <td>0</td>\n",
       "      <td>0</td>\n",
       "      <td>...</td>\n",
       "      <td>0</td>\n",
       "      <td>0</td>\n",
       "      <td>0</td>\n",
       "      <td>0</td>\n",
       "      <td>0</td>\n",
       "      <td>0</td>\n",
       "      <td>0</td>\n",
       "      <td>0</td>\n",
       "      <td>0</td>\n",
       "      <td>0</td>\n",
       "    </tr>\n",
       "    <tr>\n",
       "      <td>1870</td>\n",
       "      <td>11330</td>\n",
       "      <td>1.0</td>\n",
       "      <td>2</td>\n",
       "      <td>850</td>\n",
       "      <td>0</td>\n",
       "      <td>7.0</td>\n",
       "      <td>56</td>\n",
       "      <td>0</td>\n",
       "      <td>0</td>\n",
       "      <td>0</td>\n",
       "      <td>...</td>\n",
       "      <td>0</td>\n",
       "      <td>0</td>\n",
       "      <td>0</td>\n",
       "      <td>0</td>\n",
       "      <td>0</td>\n",
       "      <td>0</td>\n",
       "      <td>1</td>\n",
       "      <td>0</td>\n",
       "      <td>0</td>\n",
       "      <td>0</td>\n",
       "    </tr>\n",
       "  </tbody>\n",
       "</table>\n",
       "<p>5 rows × 42 columns</p>\n",
       "</div>"
      ],
      "text/plain": [
       "      rental_id  bedrooms  bathrooms  size_sqft  min_to_subway  floor  \\\n",
       "520        8405       2.0          2       1644              1    5.0   \n",
       "2587       4843       3.0          1       1100              9   15.0   \n",
       "768        2152       2.0          1        700              5    5.0   \n",
       "1775       2578       0.0          1        583              4   17.0   \n",
       "1870      11330       1.0          2        850              0    7.0   \n",
       "\n",
       "      building_age_yrs  no_fee  has_roofdeck  has_washer_dryer  ...  \\\n",
       "520                 89       0             0                 0  ...   \n",
       "2587                86       1             1                 1  ...   \n",
       "768                 96       0             0                 0  ...   \n",
       "1775                47       1             0                 0  ...   \n",
       "1870                56       0             0                 0  ...   \n",
       "\n",
       "      neighborhood_Midtown West  neighborhood_Morningside Heights  \\\n",
       "520                           0                                 0   \n",
       "2587                          0                                 0   \n",
       "768                           0                                 0   \n",
       "1775                          0                                 0   \n",
       "1870                          0                                 0   \n",
       "\n",
       "      neighborhood_Nolita  neighborhood_Roosevelt Island  neighborhood_Soho  \\\n",
       "520                     0                              0                  0   \n",
       "2587                    0                              0                  0   \n",
       "768                     0                              0                  0   \n",
       "1775                    0                              0                  0   \n",
       "1870                    0                              0                  0   \n",
       "\n",
       "      neighborhood_Tribeca  neighborhood_Upper East Side  \\\n",
       "520                      0                             1   \n",
       "2587                     0                             0   \n",
       "768                      0                             0   \n",
       "1775                     0                             0   \n",
       "1870                     0                             1   \n",
       "\n",
       "      neighborhood_Upper West Side  neighborhood_Washington Heights  \\\n",
       "520                              0                                0   \n",
       "2587                             0                                0   \n",
       "768                              1                                0   \n",
       "1775                             0                                0   \n",
       "1870                             0                                0   \n",
       "\n",
       "      neighborhood_West Village  \n",
       "520                           0  \n",
       "2587                          0  \n",
       "768                           0  \n",
       "1775                          0  \n",
       "1870                          0  \n",
       "\n",
       "[5 rows x 42 columns]"
      ]
     },
     "execution_count": 18,
     "metadata": {},
     "output_type": "execute_result"
    }
   ],
   "source": [
    "#using get_dummies() to prepare data for modeling \n",
    "\n",
    "X_train_cleaned = pd.get_dummies(data=X_train_cleaned, drop_first=True)\n",
    "X_train_cleaned.head()"
   ]
  },
  {
   "cell_type": "markdown",
   "metadata": {},
   "source": [
    "## Test Set"
   ]
  },
  {
   "cell_type": "code",
   "execution_count": 19,
   "metadata": {},
   "outputs": [],
   "source": [
    "X_test_cleaned = X_test.copy()"
   ]
  },
  {
   "cell_type": "code",
   "execution_count": 20,
   "metadata": {},
   "outputs": [
    {
     "data": {
      "text/plain": [
       "rental_id           0\n",
       "bedrooms            0\n",
       "bathrooms           0\n",
       "size_sqft           0\n",
       "min_to_subway       0\n",
       "floor               0\n",
       "building_age_yrs    0\n",
       "no_fee              0\n",
       "has_roofdeck        0\n",
       "has_washer_dryer    0\n",
       "has_doorman         0\n",
       "has_elevator        0\n",
       "has_dishwasher      0\n",
       "has_patio           0\n",
       "has_gym             0\n",
       "neighborhood        0\n",
       "borough             0\n",
       "dtype: int64"
      ]
     },
     "execution_count": 20,
     "metadata": {},
     "output_type": "execute_result"
    }
   ],
   "source": [
    "X_test_cleaned.isnull().sum() # not missisng values"
   ]
  },
  {
   "cell_type": "code",
   "execution_count": 21,
   "metadata": {},
   "outputs": [
    {
     "data": {
      "text/plain": [
       "(1165, 16)"
      ]
     },
     "execution_count": 21,
     "metadata": {},
     "output_type": "execute_result"
    }
   ],
   "source": [
    "# I'm dropping the borough column since this dataset is entirely about Manhattan\n",
    "X_test_cleaned = X_test_cleaned.drop([\"borough\"], axis=1)\n",
    "X_test_cleaned.shape"
   ]
  },
  {
   "cell_type": "code",
   "execution_count": 23,
   "metadata": {},
   "outputs": [
    {
     "data": {
      "text/html": [
       "<div>\n",
       "<style scoped>\n",
       "    .dataframe tbody tr th:only-of-type {\n",
       "        vertical-align: middle;\n",
       "    }\n",
       "\n",
       "    .dataframe tbody tr th {\n",
       "        vertical-align: top;\n",
       "    }\n",
       "\n",
       "    .dataframe thead th {\n",
       "        text-align: right;\n",
       "    }\n",
       "</style>\n",
       "<table border=\"1\" class=\"dataframe\">\n",
       "  <thead>\n",
       "    <tr style=\"text-align: right;\">\n",
       "      <th></th>\n",
       "      <th>rental_id</th>\n",
       "      <th>bedrooms</th>\n",
       "      <th>bathrooms</th>\n",
       "      <th>size_sqft</th>\n",
       "      <th>min_to_subway</th>\n",
       "      <th>floor</th>\n",
       "      <th>building_age_yrs</th>\n",
       "      <th>no_fee</th>\n",
       "      <th>has_roofdeck</th>\n",
       "      <th>has_washer_dryer</th>\n",
       "      <th>...</th>\n",
       "      <th>neighborhood_Midtown West</th>\n",
       "      <th>neighborhood_Morningside Heights</th>\n",
       "      <th>neighborhood_Nolita</th>\n",
       "      <th>neighborhood_Roosevelt Island</th>\n",
       "      <th>neighborhood_Soho</th>\n",
       "      <th>neighborhood_Tribeca</th>\n",
       "      <th>neighborhood_Upper East Side</th>\n",
       "      <th>neighborhood_Upper West Side</th>\n",
       "      <th>neighborhood_Washington Heights</th>\n",
       "      <th>neighborhood_West Village</th>\n",
       "    </tr>\n",
       "  </thead>\n",
       "  <tbody>\n",
       "    <tr>\n",
       "      <td>203</td>\n",
       "      <td>4626</td>\n",
       "      <td>1.0</td>\n",
       "      <td>1</td>\n",
       "      <td>643</td>\n",
       "      <td>3</td>\n",
       "      <td>32.0</td>\n",
       "      <td>6</td>\n",
       "      <td>1</td>\n",
       "      <td>0</td>\n",
       "      <td>0</td>\n",
       "      <td>...</td>\n",
       "      <td>0</td>\n",
       "      <td>0</td>\n",
       "      <td>0</td>\n",
       "      <td>0</td>\n",
       "      <td>0</td>\n",
       "      <td>0</td>\n",
       "      <td>0</td>\n",
       "      <td>0</td>\n",
       "      <td>0</td>\n",
       "      <td>0</td>\n",
       "    </tr>\n",
       "    <tr>\n",
       "      <td>2244</td>\n",
       "      <td>284</td>\n",
       "      <td>1.0</td>\n",
       "      <td>1</td>\n",
       "      <td>664</td>\n",
       "      <td>2</td>\n",
       "      <td>19.0</td>\n",
       "      <td>13</td>\n",
       "      <td>1</td>\n",
       "      <td>0</td>\n",
       "      <td>0</td>\n",
       "      <td>...</td>\n",
       "      <td>0</td>\n",
       "      <td>0</td>\n",
       "      <td>0</td>\n",
       "      <td>0</td>\n",
       "      <td>0</td>\n",
       "      <td>0</td>\n",
       "      <td>0</td>\n",
       "      <td>0</td>\n",
       "      <td>0</td>\n",
       "      <td>0</td>\n",
       "    </tr>\n",
       "    <tr>\n",
       "      <td>1372</td>\n",
       "      <td>6368</td>\n",
       "      <td>2.0</td>\n",
       "      <td>2</td>\n",
       "      <td>1050</td>\n",
       "      <td>4</td>\n",
       "      <td>2.0</td>\n",
       "      <td>11</td>\n",
       "      <td>0</td>\n",
       "      <td>0</td>\n",
       "      <td>0</td>\n",
       "      <td>...</td>\n",
       "      <td>1</td>\n",
       "      <td>0</td>\n",
       "      <td>0</td>\n",
       "      <td>0</td>\n",
       "      <td>0</td>\n",
       "      <td>0</td>\n",
       "      <td>0</td>\n",
       "      <td>0</td>\n",
       "      <td>0</td>\n",
       "      <td>0</td>\n",
       "    </tr>\n",
       "    <tr>\n",
       "      <td>1572</td>\n",
       "      <td>6147</td>\n",
       "      <td>1.0</td>\n",
       "      <td>1</td>\n",
       "      <td>693</td>\n",
       "      <td>3</td>\n",
       "      <td>6.0</td>\n",
       "      <td>15</td>\n",
       "      <td>1</td>\n",
       "      <td>0</td>\n",
       "      <td>0</td>\n",
       "      <td>...</td>\n",
       "      <td>0</td>\n",
       "      <td>0</td>\n",
       "      <td>0</td>\n",
       "      <td>0</td>\n",
       "      <td>0</td>\n",
       "      <td>0</td>\n",
       "      <td>0</td>\n",
       "      <td>1</td>\n",
       "      <td>0</td>\n",
       "      <td>0</td>\n",
       "    </tr>\n",
       "    <tr>\n",
       "      <td>1656</td>\n",
       "      <td>7652</td>\n",
       "      <td>1.0</td>\n",
       "      <td>1</td>\n",
       "      <td>730</td>\n",
       "      <td>9</td>\n",
       "      <td>9.0</td>\n",
       "      <td>57</td>\n",
       "      <td>0</td>\n",
       "      <td>0</td>\n",
       "      <td>0</td>\n",
       "      <td>...</td>\n",
       "      <td>0</td>\n",
       "      <td>0</td>\n",
       "      <td>0</td>\n",
       "      <td>0</td>\n",
       "      <td>0</td>\n",
       "      <td>0</td>\n",
       "      <td>0</td>\n",
       "      <td>0</td>\n",
       "      <td>0</td>\n",
       "      <td>0</td>\n",
       "    </tr>\n",
       "  </tbody>\n",
       "</table>\n",
       "<p>5 rows × 42 columns</p>\n",
       "</div>"
      ],
      "text/plain": [
       "      rental_id  bedrooms  bathrooms  size_sqft  min_to_subway  floor  \\\n",
       "203        4626       1.0          1        643              3   32.0   \n",
       "2244        284       1.0          1        664              2   19.0   \n",
       "1372       6368       2.0          2       1050              4    2.0   \n",
       "1572       6147       1.0          1        693              3    6.0   \n",
       "1656       7652       1.0          1        730              9    9.0   \n",
       "\n",
       "      building_age_yrs  no_fee  has_roofdeck  has_washer_dryer  ...  \\\n",
       "203                  6       1             0                 0  ...   \n",
       "2244                13       1             0                 0  ...   \n",
       "1372                11       0             0                 0  ...   \n",
       "1572                15       1             0                 0  ...   \n",
       "1656                57       0             0                 0  ...   \n",
       "\n",
       "      neighborhood_Midtown West  neighborhood_Morningside Heights  \\\n",
       "203                           0                                 0   \n",
       "2244                          0                                 0   \n",
       "1372                          1                                 0   \n",
       "1572                          0                                 0   \n",
       "1656                          0                                 0   \n",
       "\n",
       "      neighborhood_Nolita  neighborhood_Roosevelt Island  neighborhood_Soho  \\\n",
       "203                     0                              0                  0   \n",
       "2244                    0                              0                  0   \n",
       "1372                    0                              0                  0   \n",
       "1572                    0                              0                  0   \n",
       "1656                    0                              0                  0   \n",
       "\n",
       "      neighborhood_Tribeca  neighborhood_Upper East Side  \\\n",
       "203                      0                             0   \n",
       "2244                     0                             0   \n",
       "1372                     0                             0   \n",
       "1572                     0                             0   \n",
       "1656                     0                             0   \n",
       "\n",
       "      neighborhood_Upper West Side  neighborhood_Washington Heights  \\\n",
       "203                              0                                0   \n",
       "2244                             0                                0   \n",
       "1372                             0                                0   \n",
       "1572                             1                                0   \n",
       "1656                             0                                0   \n",
       "\n",
       "      neighborhood_West Village  \n",
       "203                           0  \n",
       "2244                          0  \n",
       "1372                          0  \n",
       "1572                          0  \n",
       "1656                          0  \n",
       "\n",
       "[5 rows x 42 columns]"
      ]
     },
     "execution_count": 23,
     "metadata": {},
     "output_type": "execute_result"
    }
   ],
   "source": [
    "#using get_dummies() to prepare data for modeling \n",
    "\n",
    "X_test_cleaned = pd.get_dummies(data=X_test_cleaned, drop_first=True)\n",
    "X_test_cleaned.head()"
   ]
  },
  {
   "cell_type": "markdown",
   "metadata": {},
   "source": [
    "###  Step 3: Examine your target attribute. Based on the data exploration you did in Project 1, confirm and examine the attribute you are going to predict."
   ]
  },
  {
   "cell_type": "code",
   "execution_count": 24,
   "metadata": {},
   "outputs": [],
   "source": [
    "# Examine and plot the distribution of the target attribute in your training set \n",
    "# (e.g., is it Gaussian, uniform, logarithmic). This will help you interpret the performance of \n",
    "# different algorithms on your data."
   ]
  },
  {
   "cell_type": "code",
   "execution_count": 25,
   "metadata": {},
   "outputs": [
    {
     "data": {
      "text/plain": [
       "<matplotlib.axes._subplots.AxesSubplot at 0x20b6ea58388>"
      ]
     },
     "execution_count": 25,
     "metadata": {},
     "output_type": "execute_result"
    },
    {
     "data": {
      "image/png": "[encoded data removed]",
      "text/plain": [
       "<Figure size 864x432 with 1 Axes>"
      ]
     },
     "metadata": {
      "needs_background": "light"
     },
     "output_type": "display_data"
    }
   ],
   "source": [
    "y_train.plot(kind='hist', bins=20, figsize=(12,6), facecolor='grey',edgecolor='red')\n",
    "# The histogram shows the data is positive sckewed to the right with a median value of 5101.468552 rent in manhattan"
   ]
  },
  {
   "cell_type": "code",
   "execution_count": 26,
   "metadata": {},
   "outputs": [
    {
     "data": {
      "text/plain": [
       "<matplotlib.axes._subplots.AxesSubplot at 0x20b6ff389c8>"
      ]
     },
     "execution_count": 26,
     "metadata": {},
     "output_type": "execute_result"
    },
    {
     "data": {
      "image/png": "[encoded data removed]",
      "text/plain": [
       "<Figure size 432x288 with 1 Axes>"
      ]
     },
     "metadata": {
      "needs_background": "light"
     },
     "output_type": "display_data"
    }
   ],
   "source": [
    "y_train.plot.box() # after 10k we have lots of outliers"
   ]
  },
  {
   "cell_type": "code",
   "execution_count": 27,
   "metadata": {},
   "outputs": [
    {
     "data": {
      "text/plain": [
       "count     2365.000000\n",
       "mean      5114.189852\n",
       "std       3094.702791\n",
       "min       1300.000000\n",
       "25%       3100.000000\n",
       "50%       4000.000000\n",
       "75%       6000.000000\n",
       "max      20000.000000\n",
       "Name: rent, dtype: float64"
      ]
     },
     "execution_count": 27,
     "metadata": {},
     "output_type": "execute_result"
    }
   ],
   "source": [
    "y_train.describe() # the max rent price is 20k how expensive!"
   ]
  },
  {
   "cell_type": "markdown",
   "metadata": {},
   "source": [
    "### Step 4: Selected two of the following supervised learning algorithms, ideally one from the first half of the list and one from the second half of the list "
   ]
  },
  {
   "cell_type": "code",
   "execution_count": 28,
   "metadata": {
    "scrolled": true
   },
   "outputs": [],
   "source": [
    "#Decision Tree Regressor using default parameters\n",
    "from sklearn.tree import DecisionTreeRegressor\n",
    "\n",
    "tree = DecisionTreeRegressor().fit(X_train_cleaned, y_train)"
   ]
  },
  {
   "cell_type": "code",
   "execution_count": 29,
   "metadata": {},
   "outputs": [
    {
     "name": "stdout",
     "output_type": "stream",
     "text": [
      "Test set R^2: 0.68\n",
      "Test set RMSE: 3489347.54\n",
      "Test set MAE: 1019.08\n"
     ]
    }
   ],
   "source": [
    "print(\"Test set R^2: {:.2f}\".format(tree.score(X_test_cleaned, y_test)))\n",
    "print(\"Test set RMSE: {:.2f}\".format(mean_squared_error(y_test, tree.predict(X_test_cleaned))))\n",
    "print(\"Test set MAE: {:.2f}\".format(mean_absolute_error(y_test, tree.predict(X_test_cleaned))))"
   ]
  },
  {
   "cell_type": "code",
   "execution_count": 30,
   "metadata": {},
   "outputs": [
    {
     "name": "stdout",
     "output_type": "stream",
     "text": [
      "Training set score: 0.82\n",
      "Test set R^2: 0.82\n",
      "Test set RMSE: 2010698.72\n",
      "Test set MAE: 876.97\n",
      "Number of features used: 38\n"
     ]
    }
   ],
   "source": [
    "#lasso regresssion using default parameters\n",
    "from sklearn.linear_model import Lasso\n",
    "\n",
    "lasso = Lasso().fit(X_train_cleaned, y_train)\n",
    "print(\"Training set score: {:.2f}\".format(lasso.score(X_train_cleaned, y_train)))\n",
    "print(\"Test set R^2: {:.2f}\".format(lasso.score(X_test_cleaned, y_test)))\n",
    "print(\"Test set RMSE: {:.2f}\".format(mean_squared_error(y_test, lasso.predict(X_test_cleaned))))\n",
    "print(\"Test set MAE: {:.2f}\".format(mean_absolute_error(y_test, lasso.predict(X_test_cleaned))))\n",
    "print(\"Number of features used:\", np.sum(lasso.coef_ != 0))"
   ]
  },
  {
   "cell_type": "markdown",
   "metadata": {},
   "source": [
    "### Step 5: For each of your selected models:"
   ]
  },
  {
   "cell_type": "markdown",
   "metadata": {},
   "source": [
    "Run with the default parameters using cross-validation\n",
    "Calculate precision, recall, and F1 for classification\n",
    "Calculate r2, RMSE, and MAE for regression\n",
    "(Where possible) adjust 2-3 parameters for each model\n",
    "Report evaluation metrics for the best and worst-performing parameter settings"
   ]
  },
  {
   "cell_type": "markdown",
   "metadata": {},
   "source": [
    "## Decision Tree Regression"
   ]
  },
  {
   "cell_type": "markdown",
   "metadata": {},
   "source": [
    "### Grid Search for Decision Tree "
   ]
  },
  {
   "cell_type": "code",
   "execution_count": 31,
   "metadata": {},
   "outputs": [
    {
     "name": "stdout",
     "output_type": "stream",
     "text": [
      "Best Max_depth:  4\n",
      "Best Score R2: 0.75\n",
      "Best parameter:  {'max_depth': 4}\n"
     ]
    }
   ],
   "source": [
    "# REFERENCES: https://medium.com/analytics-vidhya/hyperparameters-80cb4f442e5\n",
    "from sklearn.model_selection import GridSearchCV\n",
    "\n",
    "max_depth = np.array([2,4,6,8,10,12])\n",
    "\n",
    "model = DecisionTreeRegressor()\n",
    "grid = GridSearchCV(estimator=model, param_grid=dict(max_depth=max_depth))\n",
    "\n",
    "grid.fit(X_train_cleaned, y_train)\n",
    "\n",
    "print(\"Best Max_depth: \",grid.best_estimator_.max_depth)\n",
    "print(\"Best Score R2: {:.2f}\".format(grid.best_score_))\n",
    "print(\"Best parameter: \", grid.best_params_)"
   ]
  },
  {
   "cell_type": "code",
   "execution_count": 32,
   "metadata": {
    "scrolled": true
   },
   "outputs": [
    {
     "name": "stdout",
     "output_type": "stream",
     "text": [
      "Test set R^2: 0.77\n",
      "Test set RMSE: 2528602.64\n",
      "Test set MAE: 1010.90\n"
     ]
    }
   ],
   "source": [
    "# Desicion Tree using the best parameter\n",
    "from sklearn.tree import DecisionTreeRegressor\n",
    "\n",
    "tree = DecisionTreeRegressor(max_depth=4).fit(X_train_cleaned, y_train)\n",
    "\n",
    "print(\"Test set R^2: {:.2f}\".format(tree.score(X_test_cleaned, y_test)))\n",
    "print(\"Test set RMSE: {:.2f}\".format(mean_squared_error(y_test, tree.predict(X_test_cleaned))))\n",
    "print(\"Test set MAE: {:.2f}\".format(mean_absolute_error(y_test, tree.predict(X_test_cleaned))))"
   ]
  },
  {
   "cell_type": "code",
   "execution_count": 33,
   "metadata": {},
   "outputs": [
    {
     "name": "stdout",
     "output_type": "stream",
     "text": [
      "Test set R^2: 0.75\n",
      "Test set RMSE: 2676758.86\n",
      "Test set MAE: 1047.00\n"
     ]
    }
   ],
   "source": [
    "# Desicion Tree using the alternative parameter\n",
    "tree = DecisionTreeRegressor(max_depth=3).fit(X_train_cleaned, y_train)\n",
    "\n",
    "print(\"Test set R^2: {:.2f}\".format(tree.score(X_test_cleaned, y_test)))\n",
    "print(\"Test set RMSE: {:.2f}\".format(mean_squared_error(y_test, tree.predict(X_test_cleaned))))\n",
    "print(\"Test set MAE: {:.2f}\".format(mean_absolute_error(y_test, tree.predict(X_test_cleaned))))"
   ]
  },
  {
   "cell_type": "markdown",
   "metadata": {},
   "source": [
    "## Lasso Regression "
   ]
  },
  {
   "cell_type": "markdown",
   "metadata": {},
   "source": [
    "### Grid Search for Lasso regression"
   ]
  },
  {
   "cell_type": "code",
   "execution_count": 34,
   "metadata": {},
   "outputs": [
    {
     "name": "stderr",
     "output_type": "stream",
     "text": [
      "C:\\Users\\kathi\\Anaconda3\\lib\\site-packages\\sklearn\\model_selection\\_validation.py:516: UserWarning: With alpha=0, this algorithm does not converge well. You are advised to use the LinearRegression estimator\n",
      "  estimator.fit(X_train, y_train, **fit_params)\n",
      "C:\\Users\\kathi\\Anaconda3\\lib\\site-packages\\sklearn\\linear_model\\coordinate_descent.py:475: UserWarning: Coordinate descent with no regularization may lead to unexpected results and is discouraged.\n",
      "  positive)\n",
      "C:\\Users\\kathi\\Anaconda3\\lib\\site-packages\\sklearn\\linear_model\\coordinate_descent.py:475: ConvergenceWarning: Objective did not converge. You might want to increase the number of iterations. Duality gap: 1393406759.8005877, tolerance: 1544904.249053236\n",
      "  positive)\n",
      "C:\\Users\\kathi\\Anaconda3\\lib\\site-packages\\sklearn\\model_selection\\_validation.py:516: UserWarning: With alpha=0, this algorithm does not converge well. You are advised to use the LinearRegression estimator\n",
      "  estimator.fit(X_train, y_train, **fit_params)\n",
      "C:\\Users\\kathi\\Anaconda3\\lib\\site-packages\\sklearn\\linear_model\\coordinate_descent.py:475: UserWarning: Coordinate descent with no regularization may lead to unexpected results and is discouraged.\n",
      "  positive)\n",
      "C:\\Users\\kathi\\Anaconda3\\lib\\site-packages\\sklearn\\linear_model\\coordinate_descent.py:475: ConvergenceWarning: Objective did not converge. You might want to increase the number of iterations. Duality gap: 1193128922.041213, tolerance: 1409081.2348929613\n",
      "  positive)\n",
      "C:\\Users\\kathi\\Anaconda3\\lib\\site-packages\\sklearn\\model_selection\\_validation.py:516: UserWarning: With alpha=0, this algorithm does not converge well. You are advised to use the LinearRegression estimator\n",
      "  estimator.fit(X_train, y_train, **fit_params)\n",
      "C:\\Users\\kathi\\Anaconda3\\lib\\site-packages\\sklearn\\linear_model\\coordinate_descent.py:475: UserWarning: Coordinate descent with no regularization may lead to unexpected results and is discouraged.\n",
      "  positive)\n"
     ]
    },
    {
     "name": "stdout",
     "output_type": "stream",
     "text": [
      "Best alpha  1.0\n",
      "Best Score R2: 0.81\n",
      "Best parameter:  {'alpha': 1.0}\n"
     ]
    },
    {
     "name": "stderr",
     "output_type": "stream",
     "text": [
      "C:\\Users\\kathi\\Anaconda3\\lib\\site-packages\\sklearn\\linear_model\\coordinate_descent.py:475: ConvergenceWarning: Objective did not converge. You might want to increase the number of iterations. Duality gap: 1491845553.0363493, tolerance: 1574048.5768011415\n",
      "  positive)\n"
     ]
    }
   ],
   "source": [
    "# REFERENCES: https://medium.com/analytics-vidhya/hyperparameters-80cb4f442e5\n",
    "alphas = np.array([5, 0.5, 0.05, 0.005, 0.0005, 1, 0.1, 0.01, 0.001, 0.0001, 0 ])\n",
    "\n",
    "model = Lasso()\n",
    "grid = GridSearchCV(estimator=model, param_grid=dict(alpha=alphas))\n",
    "\n",
    "grid.fit(X_train_cleaned, y_train)\n",
    "\n",
    "print(\"Best alpha \",grid.best_estimator_.alpha)\n",
    "print(\"Best Score R2: {:.2f}\".format(grid.best_score_))\n",
    "print(\"Best parameter: \", grid.best_params_)"
   ]
  },
  {
   "cell_type": "code",
   "execution_count": 35,
   "metadata": {},
   "outputs": [
    {
     "name": "stdout",
     "output_type": "stream",
     "text": [
      "Training set score: 0.82\n",
      "Test set R^2: 0.82\n",
      "Test set RMSE: 2010698.72\n",
      "Test set MAE: 876.97\n",
      "Number of features used: 38\n"
     ]
    }
   ],
   "source": [
    "# Lasso regression using the best parameter\n",
    "\n",
    "lasso1 = Lasso(alpha=1.0, max_iter=1000000).fit(X_train_cleaned, y_train)\n",
    "print(\"Training set score: {:.2f}\".format(lasso1.score(X_train_cleaned, y_train)))\n",
    "print(\"Test set R^2: {:.2f}\".format(lasso1.score(X_test_cleaned, y_test)))\n",
    "print(\"Test set RMSE: {:.2f}\".format(mean_squared_error(y_test, lasso1.predict(X_test_cleaned))))\n",
    "print(\"Test set MAE: {:.2f}\".format(mean_absolute_error(y_test, lasso1.predict(X_test_cleaned))))\n",
    "print(\"Number of features used:\", np.sum(lasso1.coef_ != 0))"
   ]
  },
  {
   "cell_type": "code",
   "execution_count": 36,
   "metadata": {},
   "outputs": [
    {
     "name": "stdout",
     "output_type": "stream",
     "text": [
      "Training set score: 0.82\n",
      "Test set R^2: 0.82\n",
      "Test set RMSE: 2008375.57\n",
      "Test set MAE: 878.76\n",
      "Number of features used: 40\n"
     ]
    }
   ],
   "source": [
    "# Lasso regression using the alternative parameter\n",
    "\n",
    "lasso05 = Lasso(alpha=0.5, max_iter=10000).fit(X_train_cleaned, y_train)\n",
    "print(\"Training set score: {:.2f}\".format(lasso05.score(X_train_cleaned, y_train)))\n",
    "print(\"Test set R^2: {:.2f}\".format(lasso05.score(X_test_cleaned, y_test)))\n",
    "print(\"Test set RMSE: {:.2f}\".format(mean_squared_error(y_test, lasso05.predict(X_test_cleaned))))\n",
    "print(\"Test set MAE: {:.2f}\".format(mean_absolute_error(y_test, lasso05.predict(X_test_cleaned))))\n",
    "print(\"Number of features used:\", np.sum(lasso05.coef_ != 0))"
   ]
  },
  {
   "cell_type": "code",
   "execution_count": null,
   "metadata": {},
   "outputs": [],
   "source": []
  }
 ],
 "metadata": {
  "kernelspec": {
   "display_name": "Python 3",
   "language": "python",
   "name": "python3"
  },
  "language_info": {
   "codemirror_mode": {
    "name": "ipython",
    "version": 3
   },
   "file_extension": ".py",
   "mimetype": "text/x-python",
   "name": "python",
   "nbconvert_exporter": "python",
   "pygments_lexer": "ipython3",
   "version": "3.7.4"
  }
 },
 "nbformat": 4,
 "nbformat_minor": 2
}
